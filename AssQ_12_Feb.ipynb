{
 "cells": [
  {
   "cell_type": "markdown",
   "id": "026f18cd-3fb1-4f6c-ae01-5a930961079e",
   "metadata": {},
   "source": [
    "# Assinment 12-Feb\n"
   ]
  },
  {
   "cell_type": "code",
   "execution_count": null,
   "id": "95afa445-874a-4c1f-a488-3d9ce4eafa2c",
   "metadata": {},
   "outputs": [],
   "source": [
    "# Q1. What is Exception in python? write the difference between Exceptions and Syntex error."
   ]
  },
  {
   "cell_type": "code",
   "execution_count": 1,
   "id": "1f573241-a76e-4e0c-930e-dc04a4044e16",
   "metadata": {},
   "outputs": [],
   "source": [
    "# An exception is an event, which occurs during the execution of a program that disrupts\n",
    "# the normal flow of the program's instructions.\n",
    "# ie. ZeroDivisionError\n",
    "#  Synrex error,The error implies a problem that mostly arises due to the shortage of system resources. \n",
    "# On the other hand, the exceptions occur during runtime and compile time."
   ]
  },
  {
   "cell_type": "code",
   "execution_count": 2,
   "id": "d608078a-281f-4ca5-a982-d592dba1038d",
   "metadata": {},
   "outputs": [],
   "source": [
    "# A syntax error occurs when the structure of a program does not conform to the rules of the programming language.\n",
    "# Ie- Just missed to type () in print, thhen it will show Syntex error."
   ]
  },
  {
   "cell_type": "code",
   "execution_count": 3,
   "id": "6ccd6b63-6afb-4445-b903-1a04b83186b5",
   "metadata": {},
   "outputs": [],
   "source": [
    "# Q2. What hppens when an exception is not handled? Explin with exmple"
   ]
  },
  {
   "cell_type": "code",
   "execution_count": 4,
   "id": "7340de6e-1cbe-4df3-89c7-2adab0abd7d9",
   "metadata": {},
   "outputs": [],
   "source": [
    "# When an exception occurred, if we don't handle it, the program terminates abruptly and the code past the\n",
    "# line that caused the exception will not get executed."
   ]
  },
  {
   "cell_type": "code",
   "execution_count": 6,
   "id": "d593931b-616e-47ce-b289-b51cf7c954aa",
   "metadata": {},
   "outputs": [
    {
     "name": "stdout",
     "output_type": "stream",
     "text": [
      "division by zero\n"
     ]
    },
    {
     "data": {
      "text/plain": [
       "10.0"
      ]
     },
     "execution_count": 6,
     "metadata": {},
     "output_type": "execute_result"
    }
   ],
   "source": [
    "try : \n",
    "    a = 10/0\n",
    "except ZeroDivisionError as e:\n",
    "    print(e)\n",
    "a=20/2\n",
    "a"
   ]
  },
  {
   "cell_type": "code",
   "execution_count": 9,
   "id": "ae609305-79fb-4f2f-b231-b550b2b167a9",
   "metadata": {},
   "outputs": [
    {
     "ename": "SyntaxError",
     "evalue": "expected 'except' or 'finally' block (3807232494.py, line 3)",
     "output_type": "error",
     "traceback": [
      "\u001b[0;36m  Cell \u001b[0;32mIn[9], line 3\u001b[0;36m\u001b[0m\n\u001b[0;31m    a=20/2\u001b[0m\n\u001b[0m    ^\u001b[0m\n\u001b[0;31mSyntaxError\u001b[0m\u001b[0;31m:\u001b[0m expected 'except' or 'finally' block\n"
     ]
    }
   ],
   "source": [
    "try : \n",
    "    a = 10/0\n",
    "a=20/2\n",
    "a"
   ]
  },
  {
   "cell_type": "code",
   "execution_count": 8,
   "id": "c896e755-45d5-4e01-8b64-8ccda30c3e9f",
   "metadata": {},
   "outputs": [],
   "source": [
    "# if we not handled the exception(\"ZerodivisionError\") then a=10 value will not be printed."
   ]
  },
  {
   "cell_type": "code",
   "execution_count": 1,
   "id": "24c9186d-1cbb-4ea5-8ce8-6cc30d637eed",
   "metadata": {},
   "outputs": [],
   "source": [
    "# Q3. Which Python statement are used to catch and handle eptions? Explin withn exmple"
   ]
  },
  {
   "cell_type": "code",
   "execution_count": null,
   "id": "a892ca16-d13a-4925-9d82-542f90ab69cf",
   "metadata": {},
   "outputs": [],
   "source": [
    "# In Python, we catch exceptions and handle them using try and except code blocks. The try clause \n",
    "# contains the code that can raise an exception, while the except clause contains the codelines that handle the exception."
   ]
  },
  {
   "cell_type": "code",
   "execution_count": 2,
   "id": "3a227653-1711-4549-b69b-88c31089ff38",
   "metadata": {},
   "outputs": [
    {
     "name": "stdout",
     "output_type": "stream",
     "text": [
      "invalid literal for int() with base 10: 'raju'\n"
     ]
    }
   ],
   "source": [
    "try:\n",
    "    int(\"raju\")\n",
    "except (ValueError, TypeError) as e:\n",
    "    print(e)"
   ]
  },
  {
   "cell_type": "code",
   "execution_count": 3,
   "id": "49595a52-35cc-41d2-bd0d-26a1ebca47da",
   "metadata": {},
   "outputs": [
    {
     "name": "stdout",
     "output_type": "stream",
     "text": [
      "division by zero\n"
     ]
    }
   ],
   "source": [
    "try : \n",
    "    a = 10/0\n",
    "except ZeroDivisionError as e:\n",
    "    print(e)"
   ]
  },
  {
   "cell_type": "code",
   "execution_count": null,
   "id": "66f751ec-38c1-4235-afb9-a1821af17a95",
   "metadata": {},
   "outputs": [],
   "source": []
  },
  {
   "cell_type": "code",
   "execution_count": 4,
   "id": "0f02dd90-a5e7-4837-a7f6-71413fab49d5",
   "metadata": {},
   "outputs": [],
   "source": [
    "#Q4. Explin with an exmple:\n",
    "# try and else\n",
    "# finally\n",
    "# raise"
   ]
  },
  {
   "cell_type": "code",
   "execution_count": 5,
   "id": "f601704f-fdb0-47f6-b848-7fc1d4da55cb",
   "metadata": {},
   "outputs": [
    {
     "name": "stdout",
     "output_type": "stream",
     "text": [
      "this will be exceted if try block executte without error\n"
     ]
    }
   ],
   "source": [
    "try :\n",
    "    f = open(\"test.txt\", \"w\")\n",
    "    f.write(\"write into my file\")\n",
    "except Exception as e:\n",
    "    print(\"this is my except block\" , e)\n",
    "else :\n",
    "     f.close()\n",
    "     print(\"this will be exceted if try block executte without error\")   "
   ]
  },
  {
   "cell_type": "code",
   "execution_count": 7,
   "id": "41cb8d79-aebb-4ac3-8bd9-3b54123fdaf8",
   "metadata": {},
   "outputs": [
    {
     "name": "stdout",
     "output_type": "stream",
     "text": [
      "finally will be executed itself in any situation\n"
     ]
    }
   ],
   "source": [
    "try : \n",
    "    f = open(\"test.txt\", \"w\")\n",
    "    f.write(\"write something\")\n",
    "finally :\n",
    "    print(\"finally will be executed itself in any situation\")"
   ]
  },
  {
   "cell_type": "code",
   "execution_count": 9,
   "id": "6a526d5d-1b2b-442e-b5d0-a99efec600e0",
   "metadata": {},
   "outputs": [
    {
     "ename": "Exception",
     "evalue": "Sorry, no numbers below zero",
     "output_type": "error",
     "traceback": [
      "\u001b[0;31m---------------------------------------------------------------------------\u001b[0m",
      "\u001b[0;31mException\u001b[0m                                 Traceback (most recent call last)",
      "Cell \u001b[0;32mIn[9], line 4\u001b[0m\n\u001b[1;32m      1\u001b[0m x \u001b[38;5;241m=\u001b[39m \u001b[38;5;241m-\u001b[39m\u001b[38;5;241m1\u001b[39m\n\u001b[1;32m      3\u001b[0m \u001b[38;5;28;01mif\u001b[39;00m x \u001b[38;5;241m<\u001b[39m \u001b[38;5;241m0\u001b[39m:\n\u001b[0;32m----> 4\u001b[0m     \u001b[38;5;28;01mraise\u001b[39;00m \u001b[38;5;167;01mException\u001b[39;00m(\u001b[38;5;124m\"\u001b[39m\u001b[38;5;124mSorry, no numbers below zero\u001b[39m\u001b[38;5;124m\"\u001b[39m)\n",
      "\u001b[0;31mException\u001b[0m: Sorry, no numbers below zero"
     ]
    }
   ],
   "source": [
    "x = -1\n",
    "\n",
    "if x < 0:\n",
    "    raise Exception(\"Sorry, no numbers below zero\")"
   ]
  },
  {
   "cell_type": "code",
   "execution_count": 17,
   "id": "d8437679-224c-4fe0-9977-82303af745c8",
   "metadata": {},
   "outputs": [],
   "source": [
    "Q-# What are custome exception is python? Why do we need custome exception? \n",
    "# Explain with example?"
   ]
  },
  {
   "cell_type": "code",
   "execution_count": 18,
   "id": "da667b64-2712-4bdc-adc3-62d29da38931",
   "metadata": {},
   "outputs": [],
   "source": [
    "# In Python, we can define custom exceptions by creating a new class that is derived from the built-in Exception class.\n"
   ]
  },
  {
   "cell_type": "code",
   "execution_count": 22,
   "id": "c199be2f-7bfc-4286-a6e0-45e669a4bf84",
   "metadata": {},
   "outputs": [],
   "source": [
    "# using custom exceptions can help us improve this even more, especially when we are designing our package."
   ]
  },
  {
   "cell_type": "code",
   "execution_count": null,
   "id": "e7828248-8fd4-4d40-97d6-4eacbd1f037b",
   "metadata": {},
   "outputs": [],
   "source": [
    "# Q6.-create a custome exception class? use this code to handle an exception?"
   ]
  },
  {
   "cell_type": "code",
   "execution_count": 21,
   "id": "2e513ff7-98c7-4270-b89a-6a22d5892f46",
   "metadata": {},
   "outputs": [
    {
     "name": "stdin",
     "output_type": "stream",
     "text": [
      "Enter a number:  30\n"
     ]
    },
    {
     "name": "stdout",
     "output_type": "stream",
     "text": [
      "Eligible to Vote\n"
     ]
    }
   ],
   "source": [
    "# define Python user-defined exceptions\n",
    "class InvalidAgeException(Exception):\n",
    "    \"Raised when the input value is less than 18\"\n",
    "    pass\n",
    "\n",
    "# you need to guess this number\n",
    "number = 18\n",
    "\n",
    "try:\n",
    "    input_num = int(input(\"Enter a number: \"))\n",
    "    if input_num < number:\n",
    "        raise InvalidAgeException\n",
    "    else:\n",
    "        print(\"Eligible to Vote\")\n",
    "        \n",
    "except InvalidAgeException:\n",
    "    print(\"Exception occurred: Invalid Age\")"
   ]
  },
  {
   "cell_type": "code",
   "execution_count": null,
   "id": "03a4aa05-66f8-42e4-8b34-957c65f1a49c",
   "metadata": {},
   "outputs": [],
   "source": []
  }
 ],
 "metadata": {
  "kernelspec": {
   "display_name": "Python 3 (ipykernel)",
   "language": "python",
   "name": "python3"
  },
  "language_info": {
   "codemirror_mode": {
    "name": "ipython",
    "version": 3
   },
   "file_extension": ".py",
   "mimetype": "text/x-python",
   "name": "python",
   "nbconvert_exporter": "python",
   "pygments_lexer": "ipython3",
   "version": "3.10.8"
  }
 },
 "nbformat": 4,
 "nbformat_minor": 5
}
